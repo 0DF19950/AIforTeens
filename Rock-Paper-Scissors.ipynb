{
 "cells": [
  {
   "cell_type": "markdown",
   "metadata": {},
   "source": [
    "## Rock-Paper-Scissors Bot Battle\n",
    "Objective: Create an AI bot that predicts and wins at rock-paper-scissors.\n",
    "\n",
    "Tools: Use Python.\n"
   ]
  },
  {
   "cell_type": "markdown",
   "metadata": {},
   "source": [
    "# Task 1: Set Up the Game Framework\n",
    "\n",
    "Objective: Create the basic framework to play a game of Rock-Paper-Scissors."
   ]
  },
  {
   "cell_type": "code",
   "execution_count": 6,
   "metadata": {},
   "outputs": [
    {
     "name": "stdout",
     "output_type": "stream",
     "text": [
      "win\n"
     ]
    }
   ],
   "source": [
    "import random\n",
    "\n",
    "# Define moves\n",
    "moves = [\"rock\", \"paper\", \"scissors\"]\n",
    "\n",
    "# Function to get a random move\n",
    "def get_random_move():\n",
    "    return random.choice(moves)\n",
    "\n",
    "# Framework to play a single round\n",
    "def play_round(player_move, opponent_move):\n",
    "    if player_move == opponent_move:\n",
    "        return \"draw\"\n",
    "    elif (player_move == \"rock\" and opponent_move == \"scissors\") or \\\n",
    "         (player_move == \"scissors\" and opponent_move == \"paper\") or \\\n",
    "         (player_move == \"paper\" and opponent_move == \"rock\"):\n",
    "        return \"win\"\n",
    "    else:\n",
    "        return \"lose\"\n",
    "\n",
    "# Example usage\n",
    "print(play_round(\"rock\", \"scissors\"))\n"
   ]
  },
  {
   "cell_type": "markdown",
   "metadata": {},
   "source": [
    "# Tasks:\n",
    "\n",
    "1. Complete the play_round function logic if the initial snippet is incomplete.\n",
    "2. Modify the code to allow for user input for the player's move.\n",
    "3. Test the framework by playing a few rounds against a random bot."
   ]
  },
  {
   "cell_type": "markdown",
   "metadata": {},
   "source": [
    "# Task 2: Build a Simple Bot\n",
    "Objective: Create a bot that makes moves randomly."
   ]
  },
  {
   "cell_type": "code",
   "execution_count": 7,
   "metadata": {},
   "outputs": [
    {
     "name": "stdout",
     "output_type": "stream",
     "text": [
      "Player: rock, Opponent: None, Result: lose\n"
     ]
    }
   ],
   "source": [
    "def simple_bot():\n",
    "    # Return a random move\n",
    "    pass\n",
    "\n",
    "# Example usage\n",
    "player_move = \"rock\"  # Replace with user input\n",
    "opponent_move = simple_bot()\n",
    "result = play_round(player_move, opponent_move)\n",
    "print(f\"Player: {player_move}, Opponent: {opponent_move}, Result: {result}\")"
   ]
  },
  {
   "cell_type": "markdown",
   "metadata": {},
   "source": [
    "# Tasks:\n",
    "\n",
    "1. Implement the simple_bot function to randomly select a move.\n",
    "2. Replace the hardcoded player_move with user input.\n",
    "3. Modify the code to play multiple rounds and track wins/losses/draws."
   ]
  },
  {
   "cell_type": "markdown",
   "metadata": {},
   "source": [
    "# Task 3: Analyze Opponent Behavior\n",
    "Objective: Record and analyze the opponent's moves to find patterns."
   ]
  },
  {
   "cell_type": "code",
   "execution_count": 8,
   "metadata": {},
   "outputs": [
    {
     "name": "stdout",
     "output_type": "stream",
     "text": [
      "None\n"
     ]
    }
   ],
   "source": [
    "# Record opponent's moves\n",
    "opponent_history = []\n",
    "\n",
    "def analyze_opponent(history):\n",
    "    # Analyze the opponent's history and return insights (e.g., most frequent move)\n",
    "    pass\n",
    "\n",
    "# Example usage\n",
    "opponent_history.extend([\"rock\", \"scissors\", \"rock\", \"paper\", \"rock\"])\n",
    "print(analyze_opponent(opponent_history))\n"
   ]
  },
  {
   "cell_type": "markdown",
   "metadata": {},
   "source": [
    "# Tasks:\n",
    "\n",
    "1. Implement the analyze_opponent function to find the most frequently used move.\n",
    "2. Extend the game framework to record and pass opponent moves into the analysis function.\n",
    "3. Display insights after every round."
   ]
  },
  {
   "cell_type": "markdown",
   "metadata": {},
   "source": [
    "# Task 4: Create a Smarter Bot\n",
    "Objective: Develop a bot that predicts the opponent's next move based on their history."
   ]
  },
  {
   "cell_type": "code",
   "execution_count": 9,
   "metadata": {},
   "outputs": [
    {
     "name": "stdout",
     "output_type": "stream",
     "text": [
      "None\n"
     ]
    }
   ],
   "source": [
    "def smarter_bot(opponent_history):\n",
    "    # Predict the opponent's next move and counter it\n",
    "    pass\n",
    "\n",
    "# Example usage\n",
    "opponent_history = [\"rock\", \"scissors\", \"rock\"]\n",
    "print(smarter_bot(opponent_history))  # Expected output: \"paper\" (or another counter-move)\n"
   ]
  },
  {
   "cell_type": "markdown",
   "metadata": {},
   "source": [
    "# Tasks:\n",
    "\n",
    "1. Implement logic in smarter_bot to predict the next move.\n",
    "2. Integrate smarter_bot into the game framework.\n",
    "3. Test the smarter bot against the simple bot for multiple rounds and compare win rates."
   ]
  },
  {
   "cell_type": "markdown",
   "metadata": {},
   "source": [
    "# Task 5: Create a Learning Bot\n",
    "Objective: Implement a bot that adapts dynamically over multiple games by updating its strategy."
   ]
  },
  {
   "cell_type": "code",
   "execution_count": 10,
   "metadata": {},
   "outputs": [
    {
     "name": "stdout",
     "output_type": "stream",
     "text": [
      "None\n"
     ]
    }
   ],
   "source": [
    "class LearningBot:\n",
    "    def __init__(self):\n",
    "        self.history = []\n",
    "\n",
    "    def predict_next_move(self):\n",
    "        # Predict and counter the next move based on self.history\n",
    "        pass\n",
    "\n",
    "    def update_history(self, opponent_move):\n",
    "        self.history.append(opponent_move)\n",
    "\n",
    "# Example usage\n",
    "bot = LearningBot()\n",
    "bot.update_history(\"rock\")\n",
    "bot.update_history(\"scissors\")\n",
    "print(bot.predict_next_move())\n"
   ]
  },
  {
   "cell_type": "markdown",
   "metadata": {},
   "source": [
    "# Tasks:\n",
    "\n",
    "1. Implement the predict_next_move method to use the recorded history effectively.\n",
    "2. Test the learning bot against both the random and smarter bots.\n",
    "3. Track the bot's performance improvement over time."
   ]
  },
  {
   "cell_type": "markdown",
   "metadata": {},
   "source": [
    "# Task 6: Evaluate and Optimize\n",
    "Objective: Test the performance of different bots and optimize the learning bot's strategy."
   ]
  },
  {
   "cell_type": "code",
   "execution_count": 11,
   "metadata": {},
   "outputs": [
    {
     "name": "stdout",
     "output_type": "stream",
     "text": [
      "(0, 0, 0)\n"
     ]
    }
   ],
   "source": [
    "def evaluate_bots(bot1, bot2, rounds=100):\n",
    "    bot1_wins, bot2_wins, draws = 0, 0, 0\n",
    "    for _ in range(rounds):\n",
    "        # Simulate a game between bot1 and bot2\n",
    "        pass\n",
    "    return bot1_wins, bot2_wins, draws\n",
    "\n",
    "# Example usage\n",
    "print(evaluate_bots(smarter_bot, simple_bot))\n"
   ]
  },
  {
   "cell_type": "markdown",
   "metadata": {},
   "source": [
    "# Tasks:\n",
    "\n",
    "1. Complete the evaluate_bots function to simulate multiple rounds.\n",
    "2. Compare the win rates of the random, smarter, and learning bots.\n",
    "3. Experiment with different prediction strategies to optimize the learning bot."
   ]
  },
  {
   "cell_type": "markdown",
   "metadata": {},
   "source": []
  }
 ],
 "metadata": {
  "kernelspec": {
   "display_name": "Python 3",
   "language": "python",
   "name": "python3"
  },
  "language_info": {
   "codemirror_mode": {
    "name": "ipython",
    "version": 3
   },
   "file_extension": ".py",
   "mimetype": "text/x-python",
   "name": "python",
   "nbconvert_exporter": "python",
   "pygments_lexer": "ipython3",
   "version": "3.9.6"
  }
 },
 "nbformat": 4,
 "nbformat_minor": 2
}
