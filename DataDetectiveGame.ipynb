{
 "cells": [
  {
   "cell_type": "markdown",
   "metadata": {},
   "source": [
    "## Data Detective Game: Solve the Mystery Using Data Patterns\n",
    "\n",
    "Objective: Solve a fictional mystery by analyzing a dataset with embedded clues (timestamps, locations, actions, etc.). The goal is to encourage logical reasoning, critical thinking, and data analysis skills."
   ]
  },
  {
   "cell_type": "markdown",
   "metadata": {},
   "source": [
    "# Step 1: Dataset Preparation\n",
    "Create the Dataset: Design a dataset that contains the following:\n",
    "\n",
    "1. Characters: Names or IDs of individuals involved in the story.\n",
    "2. Timestamps: Time-related data to establish alibis or actions.\n",
    "3. Locations: Where each character was at a given time.\n",
    "4. Actions/Events: Actions tied to characters (e.g., \"bought cupcakes,\" \"entered bakery\").\n",
    "5. Clues: Subtle patterns or inconsistencies that point to the culprit.\n",
    "\n",
    "![Alt text](CSVexample.png)"
   ]
  },
  {
   "cell_type": "markdown",
   "metadata": {},
   "source": [
    "# Step 2: Task Breakdown\n",
    "## Task 1: Load and Explore the Data\n",
    "\n",
    "Goal: Familiarize with the dataset and identify key columns for analysis."
   ]
  },
  {
   "cell_type": "code",
   "execution_count": null,
   "metadata": {},
   "outputs": [],
   "source": [
    "import pandas as pd\n",
    "\n",
    "# Load the dataset\n",
    "data = pd.read_csv(\"mystery_dataset.csv\")\n",
    "\n",
    "# Display the first few rows\n",
    "print(data.head())\n",
    "\n",
    "# Explore unique values in key columns\n",
    "print(data[\"Character\"].unique())\n",
    "print(data[\"Location\"].unique())\n"
   ]
  },
  {
   "cell_type": "markdown",
   "metadata": {},
   "source": [
    "# Tasks:\n",
    "\n",
    "1. Load the dataset into Google Sheets, Excel, or Python.\n",
    "2. Identify key columns (e.g., \"Timestamp,\" \"Location\").\n",
    "3. List questions to answer:\n",
    "- Who had the opportunity to steal the cupcakes?\n",
    "- Was anyone at the bakery at suspicious times?"
   ]
  },
  {
   "cell_type": "markdown",
   "metadata": {},
   "source": [
    "# Task 2: Analyze Patterns\n",
    "\n",
    "Goal: Use filters, formulas, or code to extract meaningful patterns.\n",
    "\n",
    "Example Filters:\n",
    "\n",
    "- Filter by \"Location\" to find who was at the Bakery.\n",
    "- Sort by \"Timestamp\" to create a timeline of events."
   ]
  },
  {
   "cell_type": "code",
   "execution_count": null,
   "metadata": {},
   "outputs": [],
   "source": [
    "# Filter data to find who was at the Bakery\n",
    "at_bakery = data[data[\"Location\"] == \"Bakery\"]\n",
    "print(at_bakery)\n",
    "\n",
    "# Sort by Timestamp to create a timeline\n",
    "timeline = data.sort_values(by=\"Timestamp\")\n",
    "print(timeline)\n"
   ]
  },
  {
   "cell_type": "markdown",
   "metadata": {},
   "source": [
    "# Tasks:\n",
    "\n",
    "1. Find out who was at the bakery between 12:00 PM and 1:00 PM.\n",
    "2. Analyze actions to see if anyone behaved suspiciously (e.g., left with a bag).\n",
    "3. Cross-reference data to validate alibis."
   ]
  },
  {
   "cell_type": "markdown",
   "metadata": {},
   "source": [
    "# Task 3: Solve the Mystery\n",
    "\n",
    "Goal: Use insights from the analysis to identify the culprit and explain your reasoning.\n",
    "\n",
    "Key Steps:\n",
    "\n",
    "1. Summarize the findings:\n",
    "- Who had access to the cupcakes?\n",
    "- Who left the bakery with suspicious items or at odd times?\n",
    "2. Create a hypothesis based on the data.\n",
    "3. Test the hypothesis by reviewing the timeline and clues.\n",
    "\n",
    "Example Explanation:\n",
    "\n",
    "\"Based on the data, Morgan is the culprit. They were at the bakery at 12:45 PM and left with a bag. No one else was seen leaving with an item that could contain cupcakes.\""
   ]
  },
  {
   "cell_type": "markdown",
   "metadata": {},
   "source": [
    "## Advanced Challenge\n",
    "Add Noise: Introduce misleading or irrelevant data to make the mystery more challenging.\n",
    "\n",
    "Collaborative Investigation: Split students into teams to compete in solving the mystery.\n",
    "\n",
    "Dynamic Dataset: Create a dataset generator in Python for randomized mysteries."
   ]
  },
  {
   "cell_type": "markdown",
   "metadata": {},
   "source": []
  }
 ],
 "metadata": {
  "kernelspec": {
   "display_name": "Python 3",
   "language": "python",
   "name": "python3"
  },
  "language_info": {
   "codemirror_mode": {
    "name": "ipython",
    "version": 3
   },
   "file_extension": ".py",
   "mimetype": "text/x-python",
   "name": "python",
   "nbconvert_exporter": "python",
   "pygments_lexer": "ipython3",
   "version": "3.9.6"
  }
 },
 "nbformat": 4,
 "nbformat_minor": 2
}
